{
 "cells": [
  {
   "cell_type": "code",
   "execution_count": 195,
   "metadata": {},
   "outputs": [],
   "source": [
    "import numpy as np\n",
    "from numpy.fft import fft2,ifft2\n",
    "from numpy import real\n",
    "from math import exp,pi\n",
    "import matplotlib.pyplot as plt"
   ]
  },
  {
   "cell_type": "code",
   "execution_count": 196,
   "metadata": {},
   "outputs": [],
   "source": [
    "u=np.zeros(10000).reshape(100,100)\n",
    "v=np.zeros(10000).reshape(100,100)\n",
    "p=np.zeros(10000).reshape(100,100)"
   ]
  },
  {
   "cell_type": "code",
   "execution_count": 197,
   "metadata": {},
   "outputs": [],
   "source": [
    "#defining the domain\n",
    "dx=0.001\n",
    "dy=0.001\n",
    "kx=np.arange(0,100)*2*pi/(100*dx)\n",
    "[Kx,Ky]=np.meshgrid(kx,kx)\n",
    "k2=Kx*Kx+Ky*Ky"
   ]
  },
  {
   "cell_type": "code",
   "execution_count": 198,
   "metadata": {},
   "outputs": [],
   "source": [
    "#Boundary conditions:\n",
    "u[0]=np.ones(100)\n",
    "u[99]=np.zeros(100)\n",
    "u[:,0]=np.zeros(100)\n",
    "u[:,99]=np.zeros(100)\n",
    "v[0]=np.zeros(100)\n",
    "v[99]=np.zeros(100)\n",
    "v[:,0]=np.zeros(100)\n",
    "v[:,99]=np.zeros(100)"
   ]
  },
  {
   "cell_type": "code",
   "execution_count": 199,
   "metadata": {},
   "outputs": [],
   "source": [
    "#constants\n",
    "nu=8.9e-04\n",
    "dt=0.01"
   ]
  },
  {
   "cell_type": "code",
   "execution_count": 200,
   "metadata": {},
   "outputs": [
    {
     "name": "stderr",
     "output_type": "stream",
     "text": [
      "C:\\ProgramData\\Anaconda3\\lib\\site-packages\\ipykernel_launcher.py:7: RuntimeWarning: invalid value encountered in true_divide\n",
      "  import sys\n",
      "C:\\ProgramData\\Anaconda3\\lib\\site-packages\\ipykernel_launcher.py:9: RuntimeWarning: invalid value encountered in true_divide\n",
      "  if __name__ == '__main__':\n",
      "C:\\ProgramData\\Anaconda3\\lib\\site-packages\\ipykernel_launcher.py:4: RuntimeWarning: overflow encountered in multiply\n",
      "  after removing the cwd from sys.path.\n",
      "C:\\ProgramData\\Anaconda3\\lib\\site-packages\\ipykernel_launcher.py:4: RuntimeWarning: invalid value encountered in add\n",
      "  after removing the cwd from sys.path.\n",
      "C:\\ProgramData\\Anaconda3\\lib\\site-packages\\ipykernel_launcher.py:5: RuntimeWarning: overflow encountered in multiply\n",
      "  \"\"\"\n",
      "C:\\ProgramData\\Anaconda3\\lib\\site-packages\\ipykernel_launcher.py:5: RuntimeWarning: invalid value encountered in add\n",
      "  \"\"\"\n"
     ]
    }
   ],
   "source": [
    "uk=fft2(u)\n",
    "vk=fft2(v)\n",
    "for i in range(0,6000):\n",
    "    Ax=u*real(ifft2(1j*Kx*uk))+v*real(ifft2(1j*Ky*uk))\n",
    "    Ay=u*real(ifft2(1j*Kx*vk))+v*real(ifft2(1j*Ky*vk))\n",
    "\n",
    "    Cxk=fft2(Ax)-(Kx/k2)*fft2(Ax)*Kx\n",
    "    Cxk[0,0]=0\n",
    "    Cyk=fft2(Ay)-(Ky/k2)*fft2(Ax)*Kx\n",
    "    Cyk[0,0]=0\n",
    "\n",
    "    uk=uk-(Cxk+nu*k2*uk)*dt\n",
    "    vk=vk-(Cyk+nu*k2*vk)*dt\n",
    "    u=real(ifft2(uk))\n",
    "    v=real(ifft2(vk))"
   ]
  },
  {
   "cell_type": "code",
   "execution_count": null,
   "metadata": {},
   "outputs": [],
   "source": []
  },
  {
   "cell_type": "code",
   "execution_count": 201,
   "metadata": {},
   "outputs": [
    {
     "data": {
      "text/plain": [
       "<matplotlib.quiver.Quiver at 0x23f8d2d2848>"
      ]
     },
     "execution_count": 201,
     "metadata": {},
     "output_type": "execute_result"
    },
    {
     "data": {
      "image/png": "[encoded data removed]",
      "text/plain": [
       "<Figure size 432x288 with 1 Axes>"
      ]
     },
     "metadata": {
      "needs_background": "light"
     },
     "output_type": "display_data"
    }
   ],
   "source": [
    "x=np.arange(0,10,0.1)\n",
    "[X,Y]=np.meshgrid(x,x)\n",
    "plt.quiver(X,Y,u,v)"
   ]
  },
  {
   "cell_type": "code",
   "execution_count": null,
   "metadata": {},
   "outputs": [],
   "source": []
  }
 ],
 "metadata": {
  "kernelspec": {
   "display_name": "Python 3",
   "language": "python",
   "name": "python3"
  },
  "language_info": {
   "codemirror_mode": {
    "name": "ipython",
    "version": 3
   },
   "file_extension": ".py",
   "mimetype": "text/x-python",
   "name": "python",
   "nbconvert_exporter": "python",
   "pygments_lexer": "ipython3",
   "version": "3.7.4"
  }
 },
 "nbformat": 4,
 "nbformat_minor": 2
}
