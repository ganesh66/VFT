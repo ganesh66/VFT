{
 "cells": [
  {
   "cell_type": "code",
   "execution_count": 35,
   "metadata": {},
   "outputs": [],
   "source": [
    "import numpy as np\n",
    "from numpy.fft import fft2,ifft2\n",
    "from numpy import real,vectorize,exp\n",
    "from math import pi\n",
    "import matplotlib.pyplot as plt"
   ]
  },
  {
   "cell_type": "code",
   "execution_count": 36,
   "metadata": {},
   "outputs": [],
   "source": [
    "u=np.zeros(10000).reshape(100,100)\n",
    "v=np.zeros(10000).reshape(100,100)\n",
    "p=np.zeros(10000).reshape(100,100)"
   ]
  },
  {
   "cell_type": "code",
   "execution_count": 37,
   "metadata": {},
   "outputs": [],
   "source": [
    "#defining the domain\n",
    "dx=0.001\n",
    "dy=0.001\n",
    "#kx=np.arange(0,100)*2*pi/(100*dx)\n",
    "kx=(np.mod(1/2+np.arange(0,100)/100, 1)-0.5)*(2* pi /dx)\n",
    "[Kx,Ky]=np.meshgrid(kx,kx)\n",
    "k2=Kx*Kx+Ky*Ky"
   ]
  },
  {
   "cell_type": "code",
   "execution_count": 44,
   "metadata": {},
   "outputs": [],
   "source": [
    "#Boundary conditions:\n",
    "u[99]=np.zeros(100)\n",
    "u[:,0]=np.zeros(100)\n",
    "u[:,99]=np.zeros(100)\n",
    "u[0]=np.ones(100)\n",
    "v[0]=np.zeros(100)\n",
    "v[99]=np.zeros(100)\n",
    "v[:,0]=np.zeros(100)\n",
    "v[:,99]=np.zeros(100)"
   ]
  },
  {
   "cell_type": "code",
   "execution_count": 45,
   "metadata": {},
   "outputs": [],
   "source": [
    "#constants\n",
    "nu=8.9e-04\n",
    "dt=0.01"
   ]
  },
  {
   "cell_type": "code",
   "execution_count": 46,
   "metadata": {},
   "outputs": [
    {
     "name": "stderr",
     "output_type": "stream",
     "text": [
      "C:\\ProgramData\\Anaconda3\\lib\\site-packages\\ipykernel_launcher.py:11: RuntimeWarning: invalid value encountered in true_divide\n",
      "  # This is added back by InteractiveShellApp.init_path()\n",
      "C:\\ProgramData\\Anaconda3\\lib\\site-packages\\ipykernel_launcher.py:13: RuntimeWarning: invalid value encountered in true_divide\n",
      "  del sys.path[0]\n",
      "C:\\ProgramData\\Anaconda3\\lib\\site-packages\\ipykernel_launcher.py:40: RuntimeWarning: invalid value encountered in true_divide\n",
      "C:\\ProgramData\\Anaconda3\\lib\\site-packages\\ipykernel_launcher.py:42: RuntimeWarning: invalid value encountered in true_divide\n"
     ]
    }
   ],
   "source": [
    "#using rk first order to find the second initializer to use in\n",
    "#second order Adams-Bashforth type\n",
    "dudx=real(ifft2(1j*Kx*fft2(u)))\n",
    "dudy=real(ifft2(1j*Ky*fft2(u)))\n",
    "dvdx=real(ifft2(1j*Kx*fft2(v)))\n",
    "dvdy=real(ifft2(1j*Kx*fft2(v)))\n",
    "\n",
    "Ax=u*dudx+v*dudy\n",
    "Ay=u*dvdx+v*dvdy\n",
    "\n",
    "Cxk=fft2(Ax)-(Kx/k2)*fft2(Ax)*Kx\n",
    "Cxk[0,0]=0\n",
    "Cyk=fft2(Ay)-(Ky/k2)*fft2(Ax)*Kx\n",
    "Cyk[0,0]=0\n",
    "\n",
    "u=real(ifft2(fft2(u)-(Cxk+nu*k2*fft2(u))))\n",
    "v=real(ifft2(fft2(v)-(Cyk+nu*k2*fft2(v))))\n",
    "\n",
    "#Boundary conditions:\n",
    "u[99]=np.zeros(100)\n",
    "u[:,0]=np.zeros(100)\n",
    "u[0]=np.zeros(100)\n",
    "u[99]=np.ones(100)*0.05\n",
    "v[0]=np.zeros(100)\n",
    "v[99]=np.zeros(100)\n",
    "v[:,0]=np.zeros(100)\n",
    "v[:,99]=np.zeros(100)\n",
    "\n",
    "Cxk_n_1=Cxk\n",
    "Cyk_n_1=Cyk\n",
    "\n",
    "dudx=real(ifft2(1j*Kx*fft2(u)))\n",
    "dudy=real(ifft2(1j*Ky*fft2(u)))\n",
    "dvdx=real(ifft2(1j*Kx*fft2(v)))\n",
    "dvdy=real(ifft2(1j*Kx*fft2(v)))\n",
    "\n",
    "Ax=u*dudx+v*dudy\n",
    "Ay=u*dvdx+v*dvdy\n",
    "\n",
    "Cxk=fft2(Ax)-(Kx/k2)*fft2(Ax)*Kx\n",
    "Cxk[0,0]=0\n",
    "Cyk=fft2(Ay)-(Ky/k2)*fft2(Ax)*Kx\n",
    "Cyk[0,0]=0\n"
   ]
  },
  {
   "cell_type": "code",
   "execution_count": 47,
   "metadata": {},
   "outputs": [
    {
     "name": "stderr",
     "output_type": "stream",
     "text": [
      "C:\\ProgramData\\Anaconda3\\lib\\site-packages\\ipykernel_launcher.py:26: RuntimeWarning: invalid value encountered in true_divide\n",
      "C:\\ProgramData\\Anaconda3\\lib\\site-packages\\ipykernel_launcher.py:28: RuntimeWarning: invalid value encountered in true_divide\n"
     ]
    }
   ],
   "source": [
    "for i in range(0,6000):\n",
    "    u=real(ifft2(fft2(u)*exp(-1*nu*k2*dt)-(dt/2)*(3*exp(-1*nu*k2*dt)*Cxk-exp(-1*nu*k2*dt)*Cxk_n_1)))\n",
    "    v=real(ifft2(fft2(v)*exp(-1*nu*k2*dt)-(dt/2)*(3*exp(-1*nu*k2*dt)*Cyk-exp(-1*nu*k2*dt)*Cyk_n_1)))\n",
    "\n",
    "    #Boundary conditions:\n",
    "    u[99]=np.zeros(100)\n",
    "    u[:,0]=np.zeros(100)\n",
    "    u[0]=np.zeros(100)\n",
    "    u[99]=np.ones(100)*0.05\n",
    "    v[0]=np.zeros(100)\n",
    "    v[99]=np.zeros(100)\n",
    "    v[:,0]=np.zeros(100)\n",
    "    v[:,99]=np.zeros(100)\n",
    "\n",
    "    Cxk_n_1=Cxk\n",
    "    Cyk_n_1=Cyk\n",
    "\n",
    "    dudx=real(ifft2(1j*Kx*fft2(u)))\n",
    "    dudy=real(ifft2(1j*Ky*fft2(u)))\n",
    "    dvdx=real(ifft2(1j*Kx*fft2(v)))\n",
    "    dvdy=real(ifft2(1j*Kx*fft2(v)))\n",
    "\n",
    "    Ax=u*dudx+v*dudy\n",
    "    Ay=u*dvdx+v*dvdy\n",
    "\n",
    "    Cxk=fft2(Ax)-(Kx/k2)*fft2(Ax)*Kx\n",
    "    Cxk[0,0]=0\n",
    "    Cyk=fft2(Ay)-(Ky/k2)*fft2(Ax)*Kx\n",
    "    Cyk[0,0]=0\n"
   ]
  },
  {
   "cell_type": "code",
   "execution_count": 48,
   "metadata": {},
   "outputs": [
    {
     "data": {
      "text/plain": [
       "(array([[0.  , 0.  , 0.  , ..., 0.  , 0.  , 0.  ],\n",
       "        [0.  ,  nan,  nan, ...,  nan,  nan,  nan],\n",
       "        [0.  ,  nan,  nan, ...,  nan,  nan,  nan],\n",
       "        ...,\n",
       "        [0.  ,  nan,  nan, ...,  nan,  nan,  nan],\n",
       "        [0.  ,  nan,  nan, ...,  nan,  nan,  nan],\n",
       "        [0.05, 0.05, 0.05, ..., 0.05, 0.05, 0.05]]),\n",
       " array([[ 0.,  0.,  0., ...,  0.,  0.,  0.],\n",
       "        [ 0., nan, nan, ..., nan, nan,  0.],\n",
       "        [ 0., nan, nan, ..., nan, nan,  0.],\n",
       "        ...,\n",
       "        [ 0., nan, nan, ..., nan, nan,  0.],\n",
       "        [ 0., nan, nan, ..., nan, nan,  0.],\n",
       "        [ 0.,  0.,  0., ...,  0.,  0.,  0.]]))"
      ]
     },
     "execution_count": 48,
     "metadata": {},
     "output_type": "execute_result"
    }
   ],
   "source": [
    "u,v"
   ]
  },
  {
   "cell_type": "code",
   "execution_count": 49,
   "metadata": {},
   "outputs": [
    {
     "data": {
      "text/plain": [
       "<matplotlib.quiver.Quiver at 0x21bc3d58f08>"
      ]
     },
     "execution_count": 49,
     "metadata": {},
     "output_type": "execute_result"
    },
    {
     "data": {
      "image/png": "[encoded data removed]",
      "text/plain": [
       "<Figure size 432x288 with 1 Axes>"
      ]
     },
     "metadata": {
      "needs_background": "light"
     },
     "output_type": "display_data"
    }
   ],
   "source": [
    "x=np.arange(0,10,0.1)\n",
    "[X,Y]=np.meshgrid(x,x)\n",
    "plt.quiver(X,Y,u,v)"
   ]
  }
 ],
 "metadata": {
  "kernelspec": {
   "display_name": "Python 3",
   "language": "python",
   "name": "python3"
  },
  "language_info": {
   "codemirror_mode": {
    "name": "ipython",
    "version": 3
   },
   "file_extension": ".py",
   "mimetype": "text/x-python",
   "name": "python",
   "nbconvert_exporter": "python",
   "pygments_lexer": "ipython3",
   "version": "3.7.6"
  }
 },
 "nbformat": 4,
 "nbformat_minor": 2
}
